{
 "cells": [
  {
   "cell_type": "code",
   "execution_count": null,
   "id": "a14de4fc-afad-4d95-8643-52dd5b2c26e2",
   "metadata": {
    "tags": []
   },
   "outputs": [],
   "source": [
    "!ls ../data_prep"
   ]
  },
  {
   "cell_type": "code",
   "execution_count": null,
   "id": "370e81db-386e-4b15-a658-cda3403cc008",
   "metadata": {
    "tags": []
   },
   "outputs": [],
   "source": [
    "import numpy as np\n",
    "import pandas as pd\n",
    "import plotly.express as px\n",
    "import plotly.graph_objects as go\n",
    "from plotly.subplots import make_subplots\n",
    "import seaborn as sns \n",
    "import hts_utils"
   ]
  },
  {
   "cell_type": "markdown",
   "id": "b27e6213-c98b-4e3c-b91c-7d4b353d6d8c",
   "metadata": {},
   "source": [
    "# Overview\n",
    "\n",
    "## Dose Response Curve Fit Parameters from syn5522627 (from qhts-protocol-dump-headers.txt)\n",
    "\n",
    "Note that our pre-processing puts everything in micromolar units.\n",
    "\n",
    "* ZERO: asymptote of response curve at zero concentation\n",
    "* INF: asymptote of response curve at max concentration\n",
    "* MAXR: response at max concentration\n",
    "* AC50: concentration at half max response in uM\n",
    "* LAC50: log AC50\n",
    "* HILL: hill slope from curve fit\n",
    "* DATA0: response at first conc ( as % of DMSO control. So 100 == DMSO)\n",
    "* DATA1: response at second conc\n",
    "* ...\n",
    "* CONC0: first conc in uM\n",
    "* CONC1: second conc in uM\n",
    "* ...\n",
    "\n",
    "## Parameters added following https://molpharm.aspetjournals.org/content/92/4/414.long\n",
    "\n",
    "\n",
    "We measure the effectiveness ${\\rm EFF}$ of a compound as the difference between the response at zero concentration (${\\rm ZERO}$) and infinite concentration (${\\rm INF}$).\n",
    "\n",
    "$$\n",
    "{\\rm EFF} = {\\rm ZERO} - {\\rm INF}\n",
    "$$\n",
    "\n",
    "The relative effectiveness of a compound exposed to two different cell lines (a reference line and a test line) is, \n",
    "\n",
    "$$\n",
    "\\Delta {\\rm EFF} = \\frac{\n",
    "{\\rm EFF}_{ref}\n",
    "}{\n",
    "{\\rm EFF}_{test}\n",
    "}\n",
    "$$\n",
    "\n",
    "We measure the potency of a compound with ${\\rm AC50}$ (the concentration at half-maximum response).\n",
    "Note that a higher ${\\rm AC50 }$ concentration indicates a lower potentcy and vice-versa. \n",
    "The relative potency of a compound exposed to two cell lines is, \n",
    "\n",
    "$$\n",
    "\\Delta {\\rm AC50} \n",
    "= \\left[ \\log {\\rm AC50 }_{ref} -  \\log {\\rm AC50 }_{test} \\right]\n",
    "= \\log \\frac{{\\rm AC50 }_{ref}}{{\\rm AC50 }_{test}} \n",
    "$$\n",
    "\n",
    "$$\n",
    "\\Delta {\\rm p AC50} \n",
    "= -\\left[ \\log {\\rm AC50 }_{ref} -  \\log {\\rm AC50 }_{test} \\right]\n",
    "= -\\left[ \\log \\frac{{\\rm AC50 }_{ref}}{{\\rm AC50 }_{test}} \\right]\n",
    "$$\n",
    "\n",
    "One way to create a single number score for a compound is to combine relative effectiveness and relative potency into a single number, \n",
    "\n",
    "$$\n",
    "s = \\log \\frac{{\\rm EFF}}{{\\rm AC50}}\n",
    "$$\n",
    "\n",
    "$$\n",
    "\\Delta s = s_{ref} - s_{test} = \n",
    "\\log \\left( \\frac{{\\rm EFF}}{{\\rm AC50}} \\right)_{ref}\n",
    "- \\log \\left( \\frac{{\\rm EFF}}{{\\rm AC50}} \\right)_{test}\n",
    "$$\n",
    "\n",
    "$$\n",
    "\\Delta s = \n",
    "\\log \\left[ \n",
    "\\left( \\frac{{\\rm EFF}_{ref}}{{\\rm EFF}_{test}} \\right)\n",
    "\\left( \\frac{{\\rm AC50}_{test}}{{\\rm AC50}_{ref}} \\right)\n",
    "\\right]\n",
    "$$"
   ]
  },
  {
   "cell_type": "markdown",
   "id": "84738146-d80b-424f-96ac-dff82823a9cb",
   "metadata": {},
   "source": [
    "# Read in Data"
   ]
  },
  {
   "cell_type": "code",
   "execution_count": null,
   "id": "e9d1cd36-92d8-4431-94a8-b7d541683c11",
   "metadata": {
    "tags": []
   },
   "outputs": [],
   "source": [
    "file_path = \"../data_prep/syn5522627-clean.csv\"\n",
    "df_hts = hts_utils.hts_read(file_path)\n",
    "df_hts = hts_utils.hts_add_vars(df_hts)"
   ]
  },
  {
   "cell_type": "code",
   "execution_count": null,
   "id": "1d028710-9107-4fb0-b277-9eaefe573a39",
   "metadata": {
    "tags": []
   },
   "outputs": [],
   "source": [
    "df_hts.columns"
   ]
  },
  {
   "cell_type": "code",
   "execution_count": null,
   "id": "d7623e81-fb3f-43bd-96e6-4630b822a4d2",
   "metadata": {
    "tags": []
   },
   "outputs": [],
   "source": [
    "df_hts.head()"
   ]
  },
  {
   "cell_type": "markdown",
   "id": "c01c8a97-5979-42f7-866c-75e075f14360",
   "metadata": {},
   "source": [
    "# Plot Single Curve"
   ]
  },
  {
   "cell_type": "code",
   "execution_count": null,
   "id": "8b664864-5288-4df4-b11c-4622ebbed8e1",
   "metadata": {
    "tags": []
   },
   "outputs": [],
   "source": [
    "import plotly.io as pio\n",
    "\n",
    "print(pio.templates)\n",
    "\n",
    "# template = \"plotly\"\n",
    "template = \"plotly_dark\"\n",
    "# template = \"presentation\"\n",
    "# template = \"simple_white\"\n",
    "# template = \"ggplot2\"\n",
    "# template = \"none\"\n",
    "pio.templates.default = template"
   ]
  },
  {
   "cell_type": "code",
   "execution_count": null,
   "id": "8f48e016-f565-4a3d-a1eb-6a3441ab2cfb",
   "metadata": {
    "tags": []
   },
   "outputs": [],
   "source": [
    "def get_good_ref_curves(df_hts, cell_line=None, name=None):\n",
    "    df = df_hts[\n",
    "        (df_hts[\"R2\"] > 0.9)\n",
    "        & (np.abs(1 - df_hts[\"HILL\"]) < 0.1)\n",
    "        & (np.abs(100 - (df_hts[\"ZERO\"] - df_hts[\"INF\"])) < 20)\n",
    "    ].copy()\n",
    "    if cell_line is not None:\n",
    "        df = df[df[\"Cell line\"] == cell_line]\n",
    "    if name is not None:\n",
    "        df = df[df[\"name\"] == name]\n",
    "    return df"
   ]
  },
  {
   "cell_type": "code",
   "execution_count": null,
   "id": "ec763da6-28c2-4f04-95f6-9125f5e377b0",
   "metadata": {
    "tags": []
   },
   "outputs": [],
   "source": [
    "df_plt = df_hts[df_hts[\"name\"] == \"Orantinib\"]\n",
    "\n",
    "color = \"white\"\n",
    "ii = 0\n",
    "row = df_plt.iloc[ii]\n",
    "print(ii, row[hts_utils.SHOW_COLS].to_dict())\n",
    "fig = go.Figure()\n",
    "fig = hts_utils.fig_add_compound(fig, row, color=color)\n",
    "title = hts_utils.get_single_cellline_single_compound_title(row)\n",
    "margin = dict(r=100, t=150)\n",
    "fig = hts_utils.fig_update_layout(\n",
    "    fig, margin, title=title, axes_color=color, global_font_size=16, title_font_size=16\n",
    ")\n",
    "fig.show()"
   ]
  },
  {
   "cell_type": "markdown",
   "id": "bad8540a-7cfa-47c3-a3da-de0f9749947b",
   "metadata": {
    "tags": []
   },
   "source": [
    "# Plot Two Curves"
   ]
  },
  {
   "cell_type": "code",
   "execution_count": null,
   "id": "92380b7d-ca5b-4548-8f65-ecb6e46cfa0a",
   "metadata": {
    "tags": []
   },
   "outputs": [],
   "source": [
    "cell_line = \"ipnNF95.11C\"\n",
    "df_plt = get_good_ref_curves(df_hts, cell_line=cell_line)\n",
    "\n",
    "fig = go.Figure()\n",
    "\n",
    "ii = 3\n",
    "row = df_plt.iloc[ii]\n",
    "color = hts_utils.COLORS[0]\n",
    "fig = hts_utils.fig_add_compound(\n",
    "    fig, row, color=color, add_measured=False, showlegend=True, legend_name=row[\"name\"]\n",
    ")\n",
    "print(ii, row[hts_utils.SHOW_COLS].to_dict())\n",
    "\n",
    "ii = 8\n",
    "row = df_plt.iloc[ii]\n",
    "color = hts_utils.COLORS[2]\n",
    "fig = hts_utils.fig_add_compound(\n",
    "    fig, row, color=color, add_measured=False, showlegend=True, legend_name=row[\"name\"]\n",
    ")\n",
    "print(ii, row[hts_utils.SHOW_COLS].to_dict())\n",
    "\n",
    "margin = dict(r=100, t=150)\n",
    "title = \"Cell Line: {} ({}, {})\".format(\n",
    "    row[\"Cell line\"],\n",
    "    hts_utils.CELL_LINE_META[cell_line][\"source\"],\n",
    "    hts_utils.CELL_LINE_META[cell_line][\"status\"],\n",
    ")\n",
    "fig = hts_utils.fig_update_layout(\n",
    "    fig,\n",
    "    margin,\n",
    "    title=title,\n",
    "    axes_color=\"white\",\n",
    "    ymin=-10,\n",
    "    width=600,\n",
    "    height=650,\n",
    "    global_font_size=16,\n",
    "    title_font_size=16,\n",
    ")\n",
    "fig.update_layout(\n",
    "    legend=dict(\n",
    "        orientation=\"h\",\n",
    "        yanchor=\"bottom\",\n",
    "        y=1.1,\n",
    "        xanchor=\"center\",\n",
    "        x=0.5,\n",
    "    )\n",
    ")\n",
    "fig.show()"
   ]
  },
  {
   "cell_type": "markdown",
   "id": "83f0437e-4731-4f22-8148-6d232a1ff2da",
   "metadata": {},
   "source": [
    "# Plot All Cell Lines For Compound"
   ]
  },
  {
   "cell_type": "code",
   "execution_count": null,
   "id": "acb43c18-ae8a-45d1-a325-86134a97ea6e",
   "metadata": {
    "tags": []
   },
   "outputs": [],
   "source": [
    "df_plt = df_hts[df_hts[\"name\"] == \"Orantinib\"]\n",
    "fig = go.Figure()\n",
    "\n",
    "for ii in range(0, df_plt.shape[0]):\n",
    "    row = df_plt.iloc[ii]\n",
    "    color = hts_utils.COLORS[ii]\n",
    "    fig = hts_utils.fig_add_compound(\n",
    "        fig,\n",
    "        row,\n",
    "        color=color,\n",
    "        add_measured=False,\n",
    "        add_params=False,\n",
    "        add_annotations=False,\n",
    "        showlegend=True,\n",
    "        legend_name=row[\"Cell line\"],\n",
    "    )\n",
    "    print(ii, row[hts_utils.SHOW_COLS].to_dict())\n",
    "\n",
    "\n",
    "margin = dict(r=100, t=150)\n",
    "title = \"Compound: {}<br>Target: {}<br>MoA: {}\".format(\n",
    "    row[\"name\"],\n",
    "    row[\"target\"],\n",
    "    row[\"MoA\"],\n",
    ")\n",
    "fig = hts_utils.fig_update_layout(\n",
    "    fig,\n",
    "    margin,\n",
    "    title=title,\n",
    "    axes_color=\"white\",\n",
    "    ymin=-10,\n",
    "    width=None,\n",
    "    height=800,\n",
    "    global_font_size=16,\n",
    "    title_font_size=16,\n",
    ")\n",
    "#\n",
    "fig.show()"
   ]
  },
  {
   "cell_type": "code",
   "execution_count": null,
   "id": "b0fc8733-8884-40cc-ab92-a362deeeb7bf",
   "metadata": {
    "tags": []
   },
   "outputs": [],
   "source": [
    "#plt_cols = [\"R2\", \"AC50\", \"INF\", \"ZERO\", \"MAXR\", \"EFF\"]\n",
    "plt_cols = [\"R2\", \"AC50\", \"EFF\"]\n",
    "sns.pairplot(df_hts[plt_cols].sample(100))"
   ]
  },
  {
   "cell_type": "code",
   "execution_count": null,
   "id": "f4c7145d-8ee4-494c-a9f1-b7b882e7d692",
   "metadata": {
    "tags": []
   },
   "outputs": [],
   "source": [
    "sns.histplot(df_hts, x=\"PHILL\")"
   ]
  },
  {
   "cell_type": "code",
   "execution_count": null,
   "id": "218794fb-0d74-4638-ae0e-322424c781c2",
   "metadata": {
    "tags": []
   },
   "outputs": [],
   "source": [
    "px.histogram(df_hts, \"LAC50\")"
   ]
  },
  {
   "cell_type": "code",
   "execution_count": null,
   "id": "b1042031-6c34-4438-bee8-bfaac86b6169",
   "metadata": {
    "tags": []
   },
   "outputs": [],
   "source": [
    "df_plt"
   ]
  },
  {
   "cell_type": "code",
   "execution_count": null,
   "id": "946806ce-a869-493a-98c4-7821dc944090",
   "metadata": {
    "tags": []
   },
   "outputs": [],
   "source": [
    "df_hts[\"Cell line\"].value_counts()"
   ]
  },
  {
   "cell_type": "code",
   "execution_count": null,
   "id": "f3673bd5-976a-4a95-9e89-14a100e2eee7",
   "metadata": {
    "tags": []
   },
   "outputs": [],
   "source": [
    "df_hts[\"R2\"].isnull().sum()"
   ]
  },
  {
   "cell_type": "code",
   "execution_count": null,
   "id": "c971920f-89ed-4fe9-85a9-a8ce1b0ba346",
   "metadata": {
    "tags": []
   },
   "outputs": [],
   "source": [
    "fig = px.histogram(df_hts, \"log(EFF/AC50)\")\n",
    "fig.show()\n",
    "fig = px.histogram(df_hts, \"LAC50\")\n",
    "fig.show()"
   ]
  },
  {
   "cell_type": "code",
   "execution_count": null,
   "id": "95e7f53c-cff9-4d32-8608-2e13bdbf0aaa",
   "metadata": {
    "tags": []
   },
   "outputs": [],
   "source": [
    "px.scatter(df_hts, x=\"LAC50\", y=\"EFF\", color=\"R2\", height=800)"
   ]
  },
  {
   "cell_type": "code",
   "execution_count": null,
   "id": "838ac036-8f4f-4ce9-9011-f747cd43deaf",
   "metadata": {
    "tags": []
   },
   "outputs": [],
   "source": [
    "df_hts[hts_utils.SHOW_COLS]"
   ]
  },
  {
   "cell_type": "code",
   "execution_count": null,
   "id": "c402202d-956c-4191-9827-91b271ed75c2",
   "metadata": {
    "tags": []
   },
   "outputs": [],
   "source": [
    "cell_lines = sorted(list(df_hts[\"Cell line\"].unique()))\n",
    "cell_lines"
   ]
  },
  {
   "cell_type": "code",
   "execution_count": null,
   "id": "e26d6355-d580-4dc4-bd78-7f980d439fd8",
   "metadata": {
    "tags": []
   },
   "outputs": [],
   "source": [
    "ref_line = cell_lines[1]\n",
    "tumor_line = cell_lines[-1]\n",
    "df_ratios = hts_utils.hts_compare(df_hts, ref_line, tumor_line)"
   ]
  },
  {
   "cell_type": "code",
   "execution_count": null,
   "id": "f29c1bda-03bd-415a-ac27-9c4e86c90d64",
   "metadata": {
    "tags": []
   },
   "outputs": [],
   "source": [
    "df_ratios"
   ]
  },
  {
   "cell_type": "code",
   "execution_count": null,
   "id": "065a87e6-6063-4977-9406-50a652af8095",
   "metadata": {
    "tags": []
   },
   "outputs": [],
   "source": [
    "target = \"PIK3CA\"\n",
    "df_plt = df_ratios[df_ratios[\"target\"] == target].sort_values(\"log(EFF/AC50_r/t)\")"
   ]
  },
  {
   "cell_type": "code",
   "execution_count": null,
   "id": "9da77a65-02cf-41fc-92cf-0b7549182adb",
   "metadata": {
    "tags": []
   },
   "outputs": [],
   "source": [
    "px.bar(\n",
    "    df_plt,\n",
    "    x=\"name\",\n",
    "    y=\"log(EFF/AC50_r/t)\",\n",
    "    title=f\"{ref_line} over {tumor_line} (target={target})\",\n",
    "    height=600,\n",
    ")"
   ]
  },
  {
   "cell_type": "code",
   "execution_count": null,
   "id": "cfc560e6-5c9c-48c4-bd90-94a6e6523daa",
   "metadata": {
    "tags": []
   },
   "outputs": [],
   "source": [
    "df_ratios[df_ratios[\"target\"] == \"TOP2A\"]"
   ]
  },
  {
   "cell_type": "code",
   "execution_count": null,
   "id": "8be682cb-555e-41bb-957b-373d6bda76a7",
   "metadata": {},
   "outputs": [],
   "source": []
  }
 ],
 "metadata": {
  "kernelspec": {
   "display_name": "Python 3 (ipykernel)",
   "language": "python",
   "name": "python3"
  },
  "language_info": {
   "codemirror_mode": {
    "name": "ipython",
    "version": 3
   },
   "file_extension": ".py",
   "mimetype": "text/x-python",
   "name": "python",
   "nbconvert_exporter": "python",
   "pygments_lexer": "ipython3",
   "version": "3.10.10"
  }
 },
 "nbformat": 4,
 "nbformat_minor": 5
}
