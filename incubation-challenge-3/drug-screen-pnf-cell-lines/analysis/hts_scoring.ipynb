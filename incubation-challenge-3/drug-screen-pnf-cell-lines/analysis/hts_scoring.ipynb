{
 "cells": [
  {
   "cell_type": "code",
   "execution_count": null,
   "id": "a14de4fc-afad-4d95-8643-52dd5b2c26e2",
   "metadata": {
    "tags": []
   },
   "outputs": [],
   "source": [
    "!ls ../data_prep"
   ]
  },
  {
   "cell_type": "code",
   "execution_count": null,
   "id": "370e81db-386e-4b15-a658-cda3403cc008",
   "metadata": {
    "tags": []
   },
   "outputs": [],
   "source": [
    "import numpy as np\n",
    "import pandas as pd\n",
    "import plotly.express as px\n",
    "import plotly.graph_objects as go\n",
    "import rich\n",
    "import seaborn as sns\n",
    "from plotly.subplots import make_subplots\n",
    "\n",
    "import hts_utils"
   ]
  },
  {
   "cell_type": "markdown",
   "id": "b27e6213-c98b-4e3c-b91c-7d4b353d6d8c",
   "metadata": {},
   "source": [
    "# Dose Response Curve Fit Parameters from syn5522627 (from qhts-protocol-dump-headers.txt)\n",
    "\n",
    "Note that our pre-processing puts everything in micromolar units.\n",
    "\n",
    "* ZERO: asymptote of response curve at zero concentation\n",
    "* INF: asymptote of response curve at max concentration\n",
    "* MAXR: response at max concentration\n",
    "* AC50: concentration at half max response in uM\n",
    "* LAC50: log AC50\n",
    "* HILL: hill slope from curve fit\n",
    "* DATA0: response at first conc ( as % of DMSO control. So 100 == DMSO)\n",
    "* DATA1: response at second conc\n",
    "* ...\n",
    "* CONC0: first conc in uM\n",
    "* CONC1: second conc in uM\n",
    "* ...\n",
    "\n",
    "# Compound Scoring\n",
    "\n",
    "Method reference https://molpharm.aspetjournals.org/content/92/4/414.long\n",
    "\n",
    "## Effectiveness\n",
    "\n",
    "We measure the effectiveness $E$ of a compound as the difference between the response at zero concentration (${\\rm ZERO}$) and infinite concentration (${\\rm INF}$).\n",
    "\n",
    "$$\n",
    "E = {\\rm ZERO} - {\\rm INF}\n",
    "$$\n",
    "\n",
    "The relative effectiveness of a compound exposed to two different cell lines (a reference line and a test line) is, \n",
    "\n",
    "$$\n",
    "\\Delta E = \\frac{\n",
    "E_{ref}}{E_{test}}\n",
    "$$\n",
    "\n",
    "## Potentcy\n",
    "\n",
    "We measure the potency of a compound with ${\\rm AC50}$ \n",
    "(the concentration at half-maximum response).\n",
    "Note that a higher ${\\rm AC50 }$ concentration indicates a lower potentcy and vice-versa. \n",
    "We define the relative AC50 ($\\Delta {\\rm AC50}$) and relative potency ($\\Delta P$) of a compound exposed to two cell lines as, \n",
    "\n",
    "$$\n",
    "\\Delta {\\rm AC50} \n",
    "= \\left[ \\log {\\rm AC50 }_{ref} -  \\log {\\rm AC50 }_{test} \\right]\n",
    "= \\log \\frac{{\\rm AC50 }_{ref}}{{\\rm AC50 }_{test}} \n",
    "$$\n",
    "\n",
    "$$\n",
    "\\Delta P\n",
    "= - \\Delta {\\rm AC50}\n",
    "= -\\left[ \\log \\frac{{\\rm AC50 }_{ref}}{{\\rm AC50 }_{test}} \\right]\n",
    "= \\log \\frac{{\\rm AC50 }_{test}}{{\\rm AC50 }_{ref}}\n",
    "$$\n",
    "\n",
    "## Drug Score v0\n",
    "\n",
    "$\\Delta P$ is one way to score compounds.\n",
    "\n",
    "### Sensitivity\n",
    "\n",
    "When ${\\rm AC50}_{test}$ < ${\\rm AC50}_{ref}$,\n",
    "the compound was effective in the test cell line at a lower concentration than was needed in the ref cell line.\n",
    "In this case, we say the test cell line is sensitive to the compound. \n",
    "\n",
    "$$\n",
    "{\\rm AC50}_{test} < {\\rm AC50}_{ref}, \n",
    "\\quad \\frac{{\\rm AC50}_{test}}{{\\rm AC50}_{ref}} < 1, \n",
    "\\quad \\Delta P = \\log \\frac{{\\rm AC50}_{test}}{{\\rm AC50}_{ref}} < 0\n",
    "$$\n",
    "\n",
    "### Resistance\n",
    "\n",
    "When ${\\rm AC50}_{test}$ > ${\\rm AC50}_{ref}$,\n",
    "the compound needed to be present at a higher concentration in the test cell line than in the ref cell line to be effective.\n",
    "In this case, we say the test cell line is resistant to the compound. \n",
    "\n",
    "$$\n",
    "{\\rm AC50}_{test} > {\\rm AC50}_{ref}, \n",
    "\\quad \\frac{{\\rm AC50}_{test}}{{\\rm AC50}_{ref}} > 1, \n",
    "\\quad \\Delta P = \\log \\frac{{\\rm AC50}_{test}}{{\\rm AC50}_{ref}} > 0\n",
    "$$\n",
    "\n",
    "## Drug Score v1\n",
    "\n",
    "One way to create a single number score for a compound,\n",
    "\n",
    "$$\n",
    "S = \\log \\frac{E}{{\\rm AC50}}\n",
    "$$\n",
    "\n",
    "$$\n",
    "\\Delta S = S_{ref} - S_{test} = \n",
    "\\log \\left( \\frac{E}{{\\rm AC50}} \\right)_{ref}\n",
    "- \\log \\left( \\frac{E}{{\\rm AC50}} \\right)_{test}\n",
    "$$\n",
    "\n",
    "$$\n",
    "\\Delta S = \n",
    "\\log \\left[ \n",
    "\\left( \\frac{E_{ref}}{E_{test}} \\right)\n",
    "\\left( \\frac{{\\rm AC50}_{test}}{{\\rm AC50}_{ref}} \\right)\n",
    "\\right]\n",
    "= \n",
    "\\log \\left( \\frac{E_{ref}}{E_{test}} \\right) + \n",
    "\\log \\left( \\frac{{\\rm AC50}_{test}}{{\\rm AC50}_{ref}} \\right)\n",
    "=\n",
    "\\log \\Delta E + \\Delta P\n",
    "$$"
   ]
  },
  {
   "cell_type": "markdown",
   "id": "84738146-d80b-424f-96ac-dff82823a9cb",
   "metadata": {},
   "source": [
    "# Read in Data"
   ]
  },
  {
   "cell_type": "code",
   "execution_count": null,
   "id": "e9d1cd36-92d8-4431-94a8-b7d541683c11",
   "metadata": {
    "tags": []
   },
   "outputs": [],
   "source": [
    "file_path = \"../data_prep/syn5522627-clean.csv\"\n",
    "df_hts = hts_utils.hts_read(file_path, filter_curve_cols=True)\n",
    "df_hts = hts_utils.hts_add_vars(df_hts)"
   ]
  },
  {
   "cell_type": "code",
   "execution_count": null,
   "id": "d7623e81-fb3f-43bd-96e6-4630b822a4d2",
   "metadata": {
    "tags": []
   },
   "outputs": [],
   "source": [
    "df_hts.iloc[0]"
   ]
  },
  {
   "cell_type": "code",
   "execution_count": null,
   "id": "13fb5436-d080-4fbf-9605-de53de690e2a",
   "metadata": {
    "tags": []
   },
   "outputs": [],
   "source": [
    "df_hts.shape"
   ]
  },
  {
   "cell_type": "code",
   "execution_count": null,
   "id": "34115916-4b39-4164-8bf9-11648158395d",
   "metadata": {
    "tags": []
   },
   "outputs": [],
   "source": [
    "df_hts[\"Cell line\"].value_counts()"
   ]
  },
  {
   "cell_type": "code",
   "execution_count": null,
   "id": "c591f070-9248-4361-b2b4-9a970076a7b4",
   "metadata": {
    "tags": []
   },
   "outputs": [],
   "source": [
    "cell_lines = sorted(list(df_hts[\"Cell line\"].unique()))\n",
    "cell_lines"
   ]
  },
  {
   "cell_type": "code",
   "execution_count": null,
   "id": "d5565472-5980-4c41-a97e-1771046e12b1",
   "metadata": {
    "tags": []
   },
   "outputs": [],
   "source": [
    "rich.print(hts_utils.CELL_LINE_META)"
   ]
  },
  {
   "cell_type": "markdown",
   "id": "e1a7cfdb-b035-474b-8dc3-170822c808a7",
   "metadata": {},
   "source": [
    "# Reproduce Figure 1"
   ]
  },
  {
   "cell_type": "code",
   "execution_count": null,
   "id": "447b568b-6f39-47cc-b568-705bc677d02a",
   "metadata": {
    "tags": []
   },
   "outputs": [],
   "source": [
    "ref_line = \"ipnNF95.11C\"\n",
    "tumor_line = \"ipNF95.11b C/T\"\n",
    "print(ref_line)\n",
    "print(tumor_line)\n",
    "\n",
    "df_ratios = hts_utils.hts_compare(df_hts, ref_line, tumor_line)"
   ]
  },
  {
   "cell_type": "code",
   "execution_count": null,
   "id": "97512ca8-8bc4-4428-b3cb-37162e316869",
   "metadata": {
    "tags": []
   },
   "outputs": [],
   "source": [
    "df_check = df_ratios[\n",
    "    df_ratios[\"name\"].isin([\"Doxorubicin\", \"Mitoxantrone\", \"Aclarubicin\"])\n",
    "][\n",
    "    [\n",
    "        \"name\",\n",
    "        \"ref_line\",\n",
    "        \"ref_LAC50\",\n",
    "        \"ref_EFF\",\n",
    "        \"ref_log(EFF/AC50)\",\n",
    "        \"tumor_line\",\n",
    "        \"tumor_LAC50\",\n",
    "        \"tumor_EFF\",\n",
    "        \"tumor_log(EFF/AC50)\",\n",
    "        \"log(AC50_t/r)\",\n",
    "        \"log(EFF/AC50_r/t)\",\n",
    "    ]\n",
    "]"
   ]
  },
  {
   "cell_type": "code",
   "execution_count": null,
   "id": "88358b7f-27d3-4560-affa-3ce466cec8e1",
   "metadata": {
    "tags": []
   },
   "outputs": [],
   "source": [
    "df_check.iloc[1]"
   ]
  },
  {
   "cell_type": "code",
   "execution_count": null,
   "id": "14af9799-afa6-4fc7-8fde-8aee71c0da50",
   "metadata": {
    "tags": []
   },
   "outputs": [],
   "source": [
    "df_check.iloc[0]"
   ]
  },
  {
   "cell_type": "code",
   "execution_count": null,
   "id": "e2deecb5-f1e0-4b0b-a2c7-9275575f0b2d",
   "metadata": {
    "tags": []
   },
   "outputs": [],
   "source": [
    "df_check.iloc[2]"
   ]
  },
  {
   "cell_type": "code",
   "execution_count": null,
   "id": "8f26659a-8242-42f4-806a-590920ffb9cd",
   "metadata": {
    "tags": []
   },
   "outputs": [],
   "source": [
    "df_ratios.columns"
   ]
  },
  {
   "cell_type": "code",
   "execution_count": null,
   "id": "b2553d55-a06c-45a7-9798-fd8e8c13f242",
   "metadata": {
    "tags": []
   },
   "outputs": [],
   "source": [
    "df_hts"
   ]
  },
  {
   "cell_type": "markdown",
   "id": "8530f935-528f-4d7c-ba46-1ea6e8e30440",
   "metadata": {},
   "source": [
    "# Reproduce Drug List"
   ]
  },
  {
   "cell_type": "code",
   "execution_count": null,
   "id": "3d3fd434-c513-4854-bb57-e7b8fd1ad17f",
   "metadata": {
    "tags": []
   },
   "outputs": [],
   "source": [
    "r2_thresh = 0.8\n",
    "eff_thresh = 0.0\n",
    "df_ana = df_hts[(df_hts[\"R2\"] > r2_thresh) & (df_hts[\"EFF\"] > eff_thresh)]\n",
    "\n",
    "ref_line = \"ipnNF95.11C\"\n",
    "tumor_lines = [\"ipNF05.5 Mixed Clones\", \"ipNF06.2A\", \"ipNF95.11b C/T\", \"ipNF95.6\"]\n",
    "\n",
    "print(ref_line)\n",
    "print(tumor_lines)\n",
    "\n",
    "df_ratios = pd.DataFrame()\n",
    "for tumor_line in tumor_lines:\n",
    "    df_ratios = pd.concat(\n",
    "        [df_ratios, hts_utils.hts_compare(df_ana, ref_line, tumor_line)]\n",
    "    )"
   ]
  },
  {
   "cell_type": "code",
   "execution_count": null,
   "id": "f89e3f91-53bc-4bda-a1ff-4b99d84ea42f",
   "metadata": {
    "tags": []
   },
   "outputs": [],
   "source": [
    "df_ratios.head(10)"
   ]
  },
  {
   "cell_type": "code",
   "execution_count": null,
   "id": "29227d6e-f478-46e7-9385-50bb41ec7a06",
   "metadata": {
    "tags": []
   },
   "outputs": [],
   "source": [
    "tlkeys = [tl.split(\" \")[0] for tl in tumor_lines]"
   ]
  },
  {
   "cell_type": "code",
   "execution_count": null,
   "id": "d0e2ffaa-6391-4538-acfc-6e6988f13d02",
   "metadata": {
    "tags": []
   },
   "outputs": [],
   "source": [
    "tlkeys"
   ]
  },
  {
   "cell_type": "code",
   "execution_count": null,
   "id": "13f8b426-f411-450d-a780-260eb80cba64",
   "metadata": {
    "tags": []
   },
   "outputs": [],
   "source": [
    "df_scores = (\n",
    "    df_ana[df_ana[\"Cell line\"] == ref_line][[\"NCGC SID\", \"name\", \"target\", \"MoA\"]]\n",
    "    .reset_index(drop=True)\n",
    "    .set_index(\"NCGC SID\")\n",
    ")\n",
    "for line, key in zip(tumor_lines, tlkeys):\n",
    "    df_scores[f\"ds_{key}\"] = df_ratios[df_ratios[\"tumor_line\"] == line][\n",
    "        \"log(EFF/AC50_r/t)\"\n",
    "    ]\n",
    "\n",
    "\n",
    "df_scores[\"ds_mean\"] = df_ratios.groupby(\"NCGC SID\")[\"log(EFF/AC50_r/t)\"].agg(\"mean\")\n",
    "df_scores[\"ds_var\"] = df_ratios.groupby(\"NCGC SID\")[\"log(EFF/AC50_r/t)\"].agg(\"var\")\n",
    "df_scores[\"num_lines\"] = df_ratios.groupby(\"NCGC SID\").size()\n",
    "df_scores[\"num_lines\"] = df_scores[\"num_lines\"].fillna(0).astype(int)\n",
    "df_scores = df_scores[df_scores[\"num_lines\"] > 0]"
   ]
  },
  {
   "cell_type": "code",
   "execution_count": null,
   "id": "c2066fc9-1367-499d-8530-76507ee48586",
   "metadata": {
    "tags": []
   },
   "outputs": [],
   "source": [
    "df_scores"
   ]
  },
  {
   "cell_type": "code",
   "execution_count": null,
   "id": "a59decf8-2256-495f-aeda-d39b4b13ce95",
   "metadata": {
    "tags": []
   },
   "outputs": [],
   "source": [
    "df_scores[df_scores[\"name\"].isin([\"Doxorubicin\", \"Mitoxantrone\", \"Aclarubicin\"])]"
   ]
  },
  {
   "cell_type": "code",
   "execution_count": null,
   "id": "1061f590-cd92-4e13-8371-29539b4dd782",
   "metadata": {
    "tags": []
   },
   "outputs": [],
   "source": [
    "df_resist = df_scores[\n",
    "    (df_scores[\"ds_mean\"] > 0.5) & \n",
    "    (df_scores[\"num_lines\"] >= 3)\n",
    "].sort_values([\"target\", \"ds_mean\"], ascending=[True, False])"
   ]
  },
  {
   "cell_type": "code",
   "execution_count": null,
   "id": "55719455-9bba-4825-a0db-705f8bc53992",
   "metadata": {
    "tags": []
   },
   "outputs": [],
   "source": [
    "df_sensi = df_scores[\n",
    "    (df_scores[\"ds_mean\"] < -0.5) &\n",
    "    (df_scores[\"num_lines\"] >= 3)\n",
    "].sort_values([\"target\", \"ds_mean\"], ascending=[True, True])"
   ]
  },
  {
   "cell_type": "code",
   "execution_count": null,
   "id": "aa4f7501-627a-4f04-9224-b53b95a794be",
   "metadata": {
    "tags": []
   },
   "outputs": [],
   "source": [
    "df_resist.head(10)"
   ]
  },
  {
   "cell_type": "code",
   "execution_count": null,
   "id": "7aedf8d8-edfe-402c-b556-79ecd2a6ca26",
   "metadata": {
    "tags": []
   },
   "outputs": [],
   "source": [
    "df_sensi.head(10)"
   ]
  },
  {
   "cell_type": "code",
   "execution_count": null,
   "id": "5d032fe6-4abb-4d10-aa42-fcd300703af9",
   "metadata": {
    "tags": []
   },
   "outputs": [],
   "source": [
    "df_resist"
   ]
  },
  {
   "cell_type": "markdown",
   "id": "8024f487-16ae-42d8-8adc-bd8a7db02fb3",
   "metadata": {},
   "source": [
    "# Lines of Constant Score"
   ]
  },
  {
   "cell_type": "code",
   "execution_count": null,
   "id": "6e07ea99-7ea0-47bd-a763-8da75b72e809",
   "metadata": {
    "tags": []
   },
   "outputs": [],
   "source": [
    "npts = 50\n",
    "dss = np.linspace(-3.0, 3.0, 11)\n",
    "color_discrete_map = {ds: px.colors.diverging.balance[ii] for ii, ds in enumerate(dss)}\n",
    "dps = np.linspace(-4.0, 4.0, npts)"
   ]
  },
  {
   "cell_type": "code",
   "execution_count": null,
   "id": "40e5d9e7-20e0-446c-be8b-4e0bcd3c6bd8",
   "metadata": {
    "tags": []
   },
   "outputs": [],
   "source": [
    "rows = []\n",
    "for ds in dss:\n",
    "    for dp in dps:\n",
    "        lde = ds - dp\n",
    "        rows.append({\"ds\": ds, \"dp\": dp, \"lde\": lde})\n",
    "df_plt = pd.DataFrame(rows)\n",
    "df_plt[\"de\"] = 10 ** df_plt[\"lde\"]"
   ]
  },
  {
   "cell_type": "code",
   "execution_count": null,
   "id": "1e3d38e9-d012-4f61-ace4-0b59b25d0eb0",
   "metadata": {
    "tags": []
   },
   "outputs": [],
   "source": [
    "df_plt"
   ]
  },
  {
   "cell_type": "code",
   "execution_count": null,
   "id": "45321811-dc95-4ac5-89b5-867aa3fb8908",
   "metadata": {
    "tags": []
   },
   "outputs": [],
   "source": [
    "fig = px.line(\n",
    "    df_plt,\n",
    "    x=\"dp\",\n",
    "    y=\"de\",\n",
    "    color=\"ds\",\n",
    "    color_discrete_map=color_discrete_map,\n",
    "    width=600,\n",
    "    height=500,\n",
    ")\n",
    "fig.update_yaxes(range=[0, 5])\n",
    "fig.show()"
   ]
  },
  {
   "cell_type": "code",
   "execution_count": null,
   "id": "8d578451-c1ef-423b-818d-edd93d4e0945",
   "metadata": {
    "tags": []
   },
   "outputs": [],
   "source": [
    "px.colors.diverging.balance[0]"
   ]
  },
  {
   "cell_type": "code",
   "execution_count": null,
   "id": "c1c20baa-38d4-44f5-aee7-fa9b28d84827",
   "metadata": {
    "tags": []
   },
   "outputs": [],
   "source": [
    "cbtitle = \"\\u0394 s\"\n",
    "df_ratios[cbtitle] = df_ratios[\"log(EFF/AC50_r/t)\"]\n",
    "fig = px.scatter(\n",
    "    df_ratios,\n",
    "    x=\"log(AC50_t/r)\",\n",
    "    y=\"EFF_r/t\",\n",
    "    color=cbtitle,\n",
    "    color_continuous_scale=px.colors.diverging.balance,\n",
    "    width=800,\n",
    "    height=700,\n",
    ")\n",
    "\n",
    "xtitle = r\"\"\"\n",
    "$\n",
    "\\Large{\n",
    "\\Delta p = \n",
    "\\log \\frac{\\rm AC50_t}{\\rm AC50_r}\n",
    "}\n",
    "$\n",
    "\"\"\"\n",
    "\n",
    "ytitle = r\"\"\"\n",
    "$\\Large{\n",
    "\\Delta {\\rm EFF} = \n",
    "\\frac{\\rm EFF_r}{\\rm EFF_t}}\n",
    "$\n",
    "\"\"\"\n",
    "\n",
    "\n",
    "fig.update_xaxes(title=xtitle)\n",
    "fig.update_yaxes(title=ytitle)\n",
    "fig.update_layout(\n",
    "    font=dict(size=20),\n",
    "    margin=dict(l=90, r=20, t=20, b=80),\n",
    ")\n",
    "\n",
    "\n",
    "fig.show()"
   ]
  },
  {
   "cell_type": "code",
   "execution_count": null,
   "id": "a2171e3a-fdb5-4c93-b534-aff520d86800",
   "metadata": {
    "tags": []
   },
   "outputs": [],
   "source": [
    "cbtitle = \"\\u0394 s\"\n",
    "df_ratios[cbtitle] = df_ratios[\"log(EFF/AC50_r/t)\"]\n",
    "fig = px.density_contour(\n",
    "    df_ratios,\n",
    "    x=\"log(AC50_t/r)\",\n",
    "    y=\"EFF_r/t\",\n",
    "    marginal_x=\"histogram\",\n",
    "    marginal_y=\"histogram\",\n",
    "    #    color=cbtitle,\n",
    "    #    color_continuous_scale=px.colors.sequential.Bluered,\n",
    "    width=800,\n",
    "    height=700,\n",
    ")\n",
    "\n",
    "xtitle = r\"\"\"\n",
    "$\n",
    "\\Large{\n",
    "\\Delta p = \n",
    "\\log \\frac{\\rm AC50_t}{\\rm AC50_r}\n",
    "}\n",
    "$\n",
    "\"\"\"\n",
    "\n",
    "ytitle = r\"\"\"\n",
    "$\\Large{\n",
    "\\Delta {\\rm EFF} = \n",
    "\\frac{\\rm EFF_r}{\\rm EFF_t}}\n",
    "$\n",
    "\"\"\"\n",
    "\n",
    "\n",
    "# fig.update_xaxes(title=xtitle)\n",
    "# fig.update_yaxes(title=ytitle)\n",
    "fig.update_layout(\n",
    "    font=dict(size=20),\n",
    "    margin=dict(l=90, r=20, t=20, b=80),\n",
    ")\n",
    "\n",
    "\n",
    "fig.show()"
   ]
  },
  {
   "cell_type": "code",
   "execution_count": null,
   "id": "b95ce587-1411-4f82-9dc2-99e1131a99d3",
   "metadata": {
    "tags": []
   },
   "outputs": [],
   "source": [
    "fig = px.scatter(\n",
    "    df_ratios,\n",
    "    x=\"log(AC50_t/r)\",\n",
    "    y=\"log(EFF/AC50_r/t)\",\n",
    "    width=700,\n",
    "    height=700,\n",
    ")\n",
    "\n",
    "xtitle = r\"\"\"\n",
    "$\n",
    "\\Large{\n",
    "\\Delta p = \n",
    "\\log \\frac{\\rm AC50_t}{\\rm AC50_r}\n",
    "}\n",
    "$\n",
    "\"\"\"\n",
    "\n",
    "ytitle = r\"\"\"\n",
    "$\\Large{\n",
    "\\Delta s = \n",
    "\\log\n",
    "\\frac{\\rm EFF_r}{\\rm EFF_t}}\n",
    "\\frac{\\rm AC50_t}{\\rm AC50_r}\n",
    "$\n",
    "\"\"\"\n",
    "\n",
    "fig.update_xaxes(title=xtitle)\n",
    "fig.update_yaxes(title=ytitle)\n",
    "fig.update_layout(font=dict(size=20), margin=dict(l=90, r=20, t=20, b=80))\n",
    "fig.show()"
   ]
  },
  {
   "cell_type": "code",
   "execution_count": null,
   "id": "2a79e5e6-7841-4899-8f35-280766e5d726",
   "metadata": {},
   "outputs": [],
   "source": []
  }
 ],
 "metadata": {
  "kernelspec": {
   "display_name": "Python 3 (ipykernel)",
   "language": "python",
   "name": "python3"
  },
  "language_info": {
   "codemirror_mode": {
    "name": "ipython",
    "version": 3
   },
   "file_extension": ".py",
   "mimetype": "text/x-python",
   "name": "python",
   "nbconvert_exporter": "python",
   "pygments_lexer": "ipython3",
   "version": "3.10.10"
  }
 },
 "nbformat": 4,
 "nbformat_minor": 5
}
